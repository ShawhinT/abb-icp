{
 "cells": [
  {
   "cell_type": "markdown",
   "id": "8719a756-a17c-42cf-93c7-42b6abbf8e9c",
   "metadata": {},
   "source": [
    "# Ideal Customer Profile\n",
    "\n",
    "Code authored by: Shaw Talebi"
   ]
  },
  {
   "cell_type": "markdown",
   "id": "5f8e881c-5f1c-4c59-a213-a18db6589853",
   "metadata": {},
   "source": [
    "### imports"
   ]
  },
  {
   "cell_type": "code",
   "execution_count": 1,
   "id": "ef5c526f-a573-4ad2-9e31-f7169c433be4",
   "metadata": {},
   "outputs": [],
   "source": [
    "from IPython.display import display, Markdown\n",
    "from utils import send_openai_request"
   ]
  },
  {
   "cell_type": "markdown",
   "id": "4f078057-7f06-4561-96e1-82984b4657dc",
   "metadata": {},
   "source": [
    "### load data"
   ]
  },
  {
   "cell_type": "code",
   "execution_count": 2,
   "id": "3544d6f0-2b21-49c4-a830-d94f5d8e1ab4",
   "metadata": {},
   "outputs": [],
   "source": [
    "five_star_customers = open('data/4-icp/5-star-customers.md', 'r').read()\n",
    "cluster_analysis = open('data/4-icp/join_reason_cluster_analysis.md', 'r').read()"
   ]
  },
  {
   "cell_type": "markdown",
   "id": "96df895a-ddcd-4125-96c1-fd6bb15ebee9",
   "metadata": {},
   "source": [
    "### create icp"
   ]
  },
  {
   "cell_type": "code",
   "execution_count": 3,
   "id": "0d30e07b-1dcb-4792-8a76-6967af0cfe80",
   "metadata": {},
   "outputs": [],
   "source": [
    "instructions = f\"\"\"# Ideal Customer Profile (ICP) Generator\n",
    "\n",
    "Your task is to generate an ICP for the AI Builders Bootcamp using the following information.\n",
    "\n",
    "## Who is the ideal customer?\n",
    "The best customers are technical entrepreneurs. They run a small to meduium-sized business (SMB), ranging from 1-150 employees.\n",
    "\n",
    "They know how to code and typically have 7+ years experience, but they are new to AI and Large Language Models (LLMs).\n",
    "\n",
    "## Who is NOT the ideal customer?\n",
    "Individual contributors are less engaged in the course because they 1) typically are already have enough coding projects to work on \\\n",
    "and 2) probably don't have as much to gain/lose compared to technical entrepreneurs. There's a similar story with managers.\n",
    "\n",
    "## Additional Context\n",
    "\n",
    "{five_star_customers}\n",
    "\n",
    "{cluster_analysis}\n",
    "\n",
    "\"\"\""
   ]
  },
  {
   "cell_type": "code",
   "execution_count": 4,
   "id": "3350fdbb-8d18-44dd-b292-7502f6274e3e",
   "metadata": {},
   "outputs": [],
   "source": [
    "response = send_openai_request(\"\", instructions)"
   ]
  },
  {
   "cell_type": "code",
   "execution_count": 5,
   "id": "524e1be6-2125-45b2-b42f-4314c8eda9cb",
   "metadata": {},
   "outputs": [
    {
     "data": {
      "text/markdown": [
       "Here is an **Ideal Customer Profile (ICP) for the AI Builders Bootcamp** based on your information:\n",
       "\n",
       "---\n",
       "\n",
       "## **Ideal Customer Profile (ICP): AI Builders Bootcamp**\n",
       "\n",
       "### **1. Background & Demographics**\n",
       "\n",
       "- **Role:** Technical entrepreneur  \n",
       "  - Titles include founder, co-founder, CEO, CTO, technical lead, or principal engineer—especially those actively building products or leading small technical teams.\n",
       "- **Business Size:**  \n",
       "  - Small and medium-sized businesses (SMBs) with 1–150 employees.\n",
       "  - Especially relevant for founder-led organizations, startups, innovation hubs within mature companies, or consultancies building custom solutions.\n",
       "- **Technical Experience:**  \n",
       "  - 7+ years coding/programming experience (e.g., Python, Java, C#, JavaScript, etc.).\n",
       "  - Comfortable with rapid prototyping, version control, cloud environments, API interaction, and modern development tooling.\n",
       "- **AI/LLM Experience:**  \n",
       "  - Little or no prior experience in AI or large language models (LLMs).\n",
       "  - Actively seeking to translate general technical skills into **AI-native product building**.\n",
       "\n",
       "---\n",
       "\n",
       "### **2. Goals & Motivations**\n",
       "\n",
       "- **Primary Goals:**\n",
       "  - Build, deploy, and optimize real, high-value AI and LLM-powered systems from scratch.\n",
       "  - Acquire end-to-end knowledge: data discovery/ingestion → model selection/fine-tuning → application development → deployment/hosting (locally or in cloud).\n",
       "  - Make **informed, technical decisions** regarding frameworks, tools, and architecture for AI-based projects.\n",
       "  - Identify and implement **high-ROI solutions** relevant to their business or market.\n",
       "\n",
       "- **Key Motivations:**\n",
       "  - Need to ship real, custom AI applications (for internal tools, client-facing products, or as a new business line).\n",
       "  - Desire to turn emerging AI/LLM capabilities into genuine business leverage.\n",
       "  - Want hands-on experience *beyond mere theory or generic upskilling*: focus is on mastering application, not just learning basics.\n",
       "  - Looking for support, expert guidance, and a peer community of similarly ambitious builder types.\n",
       "\n",
       "---\n",
       "\n",
       "### **3. Pain Points & Triggers**\n",
       "\n",
       "- Uncertainty around *where to start* with AI and LLMs given their technical background, but lack of direct ML/AI experience.\n",
       "- Frustrated by overly generic or shallow courses/resources that do **not** dive into hands-on, production-grade AI system design.\n",
       "- Need to justify spending/business investment in AI, requiring clear understanding of *real-world value creation*.\n",
       "- Unsure about the practical pros/cons of different technologies and best practices for robust deployment.\n",
       "\n",
       "---\n",
       "\n",
       "### **4. NOT Ideal Customers**\n",
       "\n",
       "- **Individual Contributors (ICs):**  \n",
       "  - Staff engineers, analysts, or developers whose primary focus is execution of tasks rather than strategic product development or business growth.\n",
       "  - Typically too busy with day-to-day technical deliverables to benefit from (or capitalize on) real business/AIlift.\n",
       "  - Less likely to realize ROI from bootcamp as they have fewer levers to \"act\" on learnings.\n",
       "\n",
       "- **Managers (Non-Technical or Middle Management):**  \n",
       "  - Interested in concepts, but not directly responsible for building or shipping technical products.\n",
       "  - May lack the technical depth or business incentive to drive AI application—from concept to value extraction.\n",
       "- **Beginners or Career Changers:**  \n",
       "  - Those seeking introductory, career transition, or resume-boosting content rather than full-cycle, advanced application and deployment.\n",
       "  - Should seek generalist or foundational AI/ML courses instead.\n",
       "\n",
       "---\n",
       "\n",
       "### **5. Psychographics & Mindset**\n",
       "\n",
       "- **Builder Mentality:**  \n",
       "  - Enjoys rapid experimentation, learning by doing, and shipping tangible results.\n",
       "  - Values autonomy, speed, and ownership over projects.\n",
       "  - Motivated by technical deep dives and gaining master-level, actionable understanding—not just surface knowledge.\n",
       "- **Outcome-Driven:**  \n",
       "  - Sees AI as a path to competitive advantage, business growth, or major problem-solving for themselves and their clients.\n",
       "  - Willing to invest time, effort, and capital in mastering practical AI productization.\n",
       "\n",
       "---\n",
       "\n",
       "### **6. Example \"5-star\" Customer Statements**\n",
       "\n",
       "- \"I need hands-on experience fine-tuning LLMs and deploying real-world apps for my clients.\"\n",
       "- \"We’re building custom predictive solutions—need to compare open source vs. proprietary models and optimize for cost/performance.\"\n",
       "- \"As a CTO, I want to lead our org into AI and select the right architecture and framework for our next cornerstone product.\"\n",
       "- \"I'm a founder with solid coding chops, but I need a roadmap and guided projects to turn AI into a new business line.\"\n",
       "\n",
       "---\n",
       "\n",
       "### **Summary Statement**\n",
       "\n",
       "> **“Our ideal customers are technical business builders—entrepreneurs and founders at SMBs—who already know how to code, but want to master end-to-end, hands-on development and deployment of real AI and LLM systems to drive tangible business outcomes. They’re past the basics, new to AI, and frustrated by generic courses—ready for deep technical application and high-value project delivery.”**\n",
       "\n",
       "---\n",
       "\n",
       "**This ICP can be plugged into your marketing materials, sales playbooks, website pages or onboarding collateral for instant clarity on who will benefit most from the AI Builders Bootcamp.**"
      ],
      "text/plain": [
       "<IPython.core.display.Markdown object>"
      ]
     },
     "metadata": {},
     "output_type": "display_data"
    }
   ],
   "source": [
    "display(Markdown(response))"
   ]
  },
  {
   "cell_type": "code",
   "execution_count": 6,
   "id": "a9df3969-b77c-406b-a866-89cd57cfd280",
   "metadata": {},
   "outputs": [],
   "source": [
    "# write ICP to file\n",
    "with open('data/4-icp/icp.md', 'w') as f:\n",
    "    f.write(response)"
   ]
  },
  {
   "cell_type": "code",
   "execution_count": null,
   "id": "389d0aea-5f13-470f-9775-dabd575bc37a",
   "metadata": {},
   "outputs": [],
   "source": []
  }
 ],
 "metadata": {
  "kernelspec": {
   "display_name": "Python 3 (ipykernel)",
   "language": "python",
   "name": "python3"
  },
  "language_info": {
   "codemirror_mode": {
    "name": "ipython",
    "version": 3
   },
   "file_extension": ".py",
   "mimetype": "text/x-python",
   "name": "python",
   "nbconvert_exporter": "python",
   "pygments_lexer": "ipython3",
   "version": "3.12.10"
  }
 },
 "nbformat": 4,
 "nbformat_minor": 5
}
