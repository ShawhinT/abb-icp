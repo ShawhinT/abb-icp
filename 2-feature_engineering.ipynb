{
 "cells": [
  {
   "cell_type": "markdown",
   "id": "03a2f666-ec58-4748-b220-417b9c45a987",
   "metadata": {},
   "source": [
    "# Feature Engineering\n",
    "\n",
    "Code authored by: Shaw Talebi"
   ]
  },
  {
   "cell_type": "markdown",
   "id": "4c0ed4cc-d3ec-4ddd-b609-17731e061310",
   "metadata": {},
   "source": [
    "### imports"
   ]
  },
  {
   "cell_type": "code",
   "execution_count": 1,
   "id": "f715a1d7-1c8e-49e1-b628-3aef8ce9d08a",
   "metadata": {},
   "outputs": [],
   "source": [
    "import pandas as pd\n",
    "from sklearn.cluster import KMeans\n",
    "\n",
    "from utils import (\n",
    "    load_clean_data,\n",
    "    compute_openai_embedding, \n",
    "    summarize_all_responses,\n",
    "    classify_all_company_sizes, \n",
    "    classify_all_job_categories, \n",
    "    create_category_boolean_columns, \n",
    "    greater_than_or_equal_x,\n",
    ")"
   ]
  },
  {
   "cell_type": "markdown",
   "id": "6d73dc13-494f-46ff-899c-0592f2dda55a",
   "metadata": {},
   "source": [
    "### students"
   ]
  },
  {
   "cell_type": "code",
   "execution_count": 2,
   "id": "a29d625e-de7f-4014-9f5c-a642461d4c31",
   "metadata": {},
   "outputs": [],
   "source": [
    "df_students = load_clean_data('students')"
   ]
  },
  {
   "cell_type": "markdown",
   "id": "8c16e7ce-ca01-4090-90b4-2e7907fcd755",
   "metadata": {},
   "source": [
    "#### join reason"
   ]
  },
  {
   "cell_type": "code",
   "execution_count": 3,
   "id": "c8c62903-637c-4e19-8a09-9a276b3fd20f",
   "metadata": {
    "scrolled": true
   },
   "outputs": [
    {
     "name": "stdout",
     "output_type": "stream",
     "text": [
      "Summarizing response for:   Understand Gen AI usecases...\n",
      "Summarizing response for: I would like to get practical experience in building and deploying ai applications. I have some grou...\n",
      "Summarizing response for: New to the field, I will learn as much as I can so I can grow and buikd a career in AI...\n",
      "Summarizing response for: I would like to start to have a grasp of how I can use AI to build products....\n",
      "Summarizing response for: Learn more about AI customization. Building my own program using different tools . Learning also bas...\n",
      "Summarizing response for: Two things: (1) Build AI applications to streamline my work, primarily for corporate finance / bizop...\n",
      "Summarizing response for: Uplevel my knowledge on AI and ideally be able to build something using AI....\n",
      "Summarizing response for: Ai app building intro...\n",
      "Summarizing response for: Gain hands-on experience interfacing with LLMs, networking...\n",
      "Summarizing response for: Being able to build end to end AI applications....\n",
      "Summarizing response for: I would like to switch over to AI Product Management from Operational Program Management. I got laid...\n",
      "Summarizing response for: AI basics, introduction and how to use it my work ...\n",
      "Summarizing response for: I want to gain practical knowledge of end to end AI process through building projects....\n",
      "Summarizing response for: Gain knowledge and skills to be able to develop AI powered automation application for regulatory com...\n",
      "Summarizing response for: Understand and create projects using AI where most appropriate...\n",
      "Summarizing response for: I am a data scientist but have limited experience with LLM application. I want to get more experienc...\n",
      "Summarizing response for: A methodology to use this technology to build high ROI systems...\n",
      "Summarizing response for: A better understanding of AI and how to bring it into the Trackstack platform...\n",
      "Summarizing response for: A structured way to build more advanced apps and flows out of my norm\n",
      "Improve my skills to negotiate...\n",
      "Summarizing response for: Practical experience of playing with LLM!...\n",
      "Summarizing response for: Upskilling in for AI, a better understanding of building prototypes and products....\n",
      "Summarizing response for: Basic understanding of AI workflows.  I work with customers on presenting and selling technology on ...\n",
      "Summarizing response for: - Technical skills: learn to use LLMs/ AI\n",
      "- Side projects: build up portfolio of side projects\n",
      "- Com...\n",
      "Summarizing response for: Learn how to train and apply llm in real use cases like ingest legacy code and create a llm that can...\n",
      "Summarizing response for: Better understanding and skill set in AI to make my resume stand out in data science...\n",
      "Summarizing response for: Practical hands on experience of building LLM tools...\n",
      "Summarizing response for: Hands on experience in learning AI that will help explore opportunities on how we can integrate AI i...\n",
      "Summarizing response for: Learn basics and want to know what all fits where in the game .  I am not a coder and won’t code .  ...\n",
      "Summarizing response for: I would like to understand AI, how to create LLM and some of the mathematics behind AI....\n",
      "Summarizing response for: getting more out of generative AI and LLM applications...\n",
      "Summarizing response for: Knowledge to build AI applications....\n",
      "Summarizing response for: Bridge any knowledge gaps and improve my understanding of building w/ AI...\n",
      "Summarizing response for: Developer-level understanding of Gen-AI and related tech....\n",
      "Summarizing response for: Learn about AI and automating AI tasks with python. ...\n",
      "Summarizing response for: To learn practical AI skills that I can apply to real life use-cases....\n",
      "Summarizing response for: Implement AI to help small businesses grow and be more efficient....\n",
      "Summarizing response for: Learn how to create AI systems (LLMs and RAGs) that use my own data sets (incl the tokenization of t...\n",
      "Summarizing response for: I would like to deepen my understanding of AI concepts and learn how to apply them effectively in re...\n",
      "Summarizing response for: ine Hands on completion of several GenAI projects - Python program and environment using OpenAI API ...\n",
      "Summarizing response for: I'm a full time physics and ICT teacher trying to change careers into consulting as a data scientist...\n",
      "Summarizing response for: Delving deeper into practical AI with more hands on guided projects and bringing them to production ...\n",
      "Summarizing response for: Get hands on experience with AI projects and learn on a schedule....\n",
      "Summarizing response for: Practical AI foundation...\n",
      "Summarizing response for: Build AI tools...\n",
      "Summarizing response for: Better understanding of utilizing AI tools beyond just using a chat bot. ...\n",
      "Summarizing response for: Getting skills (for my resume)...\n",
      "Summarizing response for: Basic knowledge on how to use AI ...\n",
      "Summarizing response for: Advancement in career...\n",
      "Summarizing response for: Get to be fully hands on in the weeds to run ML models, large scale data pipelines and become an AI ...\n",
      "Summarizing response for: I'm currently in college and about to transition into my Bachelor's in Computer Science. Through thi...\n",
      "Summarizing response for: Broaden my skill set as a software engineer...\n",
      "Summarizing response for: Become an expert at AI...\n",
      "Summarizing response for: Get a better understanding of the mechanics of AI by applying concepts in practice. ...\n",
      "Summarizing response for: I would like to learn AI basics and a panoramic picture of the alternatives to structure, develop an...\n",
      "Summarizing response for: Practical ramp-up the learning curve for building AI applications...\n",
      "Summarizing response for: Ability to build AI use cases for various world problems including in Transportation...\n",
      "Summarizing response for: I am VP technology in professional service organization. Planning to get a good hold on AI practise ...\n",
      "Summarizing response for: How to use modern AI tools for freelance...\n",
      "Summarizing response for: AI Basic...\n",
      "Summarizing response for: As a tech leader, I want to understand the possibilities of ML and AI in real-world projects and bec...\n",
      "Summarizing response for: Become AI enabled...\n",
      "Summarizing response for: learn to build RAG based applications and learn fine-tuning of models...\n",
      "Summarizing response for: Knowledge on LLMs and Prompt Engineering. ...\n",
      "Summarizing response for: How to fine tune LLM effectively, and what LLM models I should be using for projects....\n",
      "Summarizing response for: Ability to build effective real world solutions with GenAI/ LLMs ...\n",
      "Summarizing response for: Learn to create my own LLM...\n",
      "Summarizing response for: I am on a journey to become a Citizen Data Scientist. I want to build a solid foundation in maximizi...\n",
      "Summarizing response for: Build an AI product...\n",
      "Summarizing response for: Learn something new about AI...\n",
      "Summarizing response for: n...\n",
      "Summarizing response for: Get more familiar with AI and have some knowledge and hands on experience to talk confidently about ...\n",
      "Summarizing response for: Practical applications for AI and an understanding of how to model AI systems at a technical level....\n",
      "Summarizing response for: Hands on learning...\n",
      "Summarizing response for: Learn how to train with a dataset and predictive analysis, and build a app....\n",
      "Summarizing response for: I want to build A.I. agents to make my job easier ...\n",
      "Summarizing response for: experience with AI project and regularity of doing AI activities...\n",
      "Summarizing response for: good fundamental understanding of building practical applications...\n",
      "Summarizing response for: Experience setting up my own environment and how to compare it to my companies existing machine lear...\n",
      "Summarizing response for: I'm excited to learn from your real-world AI experience, as well as gain insights into the industry'...\n",
      "Summarizing response for: Hands-on experience to build AI products...\n",
      "Summarizing response for: Build AI solutions\n",
      "...\n",
      "Summarizing response for: Get foundational knowledge on AI and related technologies. Create AI solutions for business use case...\n",
      "Summarizing response for: Build a good foundation for AI models and apps...\n",
      "Summarizing response for: Build more with AI...\n",
      "Summarizing response for: Hands on skills ...\n",
      "Summarizing response for: Hands-on experience with building with LLMs that I can implement into the AI-powered accounting plat...\n",
      "Summarizing response for: Gain a good grasp of the concepts and principles of artificial intelligence....\n",
      "Summarizing response for: Get more hands on with AI...\n",
      "Summarizing response for: Feel comfortable building various kinds of AI projects....\n",
      "Summarizing response for: how to start my own ai business...\n",
      "Summarizing response for: Understanding of building gen ai applications...\n",
      "Summarizing response for: I would like to learn how ai works and how to use it properly for better results....\n",
      "Summarizing response for: practical knowledge...\n",
      "Summarizing response for: Intro to AI programming with Python...\n"
     ]
    }
   ],
   "source": [
    "# summarize course_join_question and add to df\n",
    "col_name = 'course_join_question'\n",
    "summarized_responses = summarize_all_responses(df_students, col_name)\n",
    "\n",
    "df_students.insert(\n",
    "        df_students.columns.get_loc(col_name) + 1,\n",
    "        'course_join_question_summarized',\n",
    "        summarized_responses['course_join_question_summarized']\n",
    "    )"
   ]
  },
  {
   "cell_type": "code",
   "execution_count": 4,
   "id": "1c9df93d-198b-4ad7-bb25-efe834216ca4",
   "metadata": {},
   "outputs": [],
   "source": [
    "col_name = 'course_join_question_summarized'\n",
    "\n",
    "# compute embeddings\n",
    "embeddings = compute_openai_embedding(df_students[col_name], \"\")\n",
    "\n",
    "# cluster with kmeans\n",
    "N = 5\n",
    "kmeans = KMeans(n_clusters=N, random_state=0, n_init=\"auto\").fit(embeddings)\n",
    "df_students['course_join_question_cluster'] = kmeans.labels_ + 1\n",
    "\n",
    "# add clusters to df\n",
    "create_category_boolean_columns(df_students, 'course_join_question_cluster')"
   ]
  },
  {
   "cell_type": "markdown",
   "id": "14612988-ad90-43df-8f9f-25b46eda3e51",
   "metadata": {},
   "source": [
    "#### company size"
   ]
  },
  {
   "cell_type": "code",
   "execution_count": 5,
   "id": "9c374401-c394-4307-b7e8-4fd27bc8f9ca",
   "metadata": {},
   "outputs": [
    {
     "name": "stdout",
     "output_type": "stream",
     "text": [
      "Loaded 98 existing company classifications\n"
     ]
    }
   ],
   "source": [
    "# use an LLM to guess company size\n",
    "result = classify_all_company_sizes(df_students, 'company', 'gpt-4.1')\n",
    "\n",
    "# Find the position of the 'company' column\n",
    "company_col_position = df_students.columns.get_loc('company')\n",
    "\n",
    "# Add each key from result dict as a new column right after the company column\n",
    "for i, (key, values) in enumerate(result.items()):\n",
    "    df_students.insert(\n",
    "        company_col_position + 1 + i,  # Position to insert (after company column + previous result columns)\n",
    "        key,                           # Column name\n",
    "        values                         # Column values\n",
    "    )\n",
    "\n",
    "# add company size categories to df\n",
    "create_category_boolean_columns(df_students, 'company_size_category')"
   ]
  },
  {
   "cell_type": "markdown",
   "id": "7e313e9d-0e48-4261-8f93-508a10030a99",
   "metadata": {},
   "source": [
    "#### job title"
   ]
  },
  {
   "cell_type": "code",
   "execution_count": 6,
   "id": "a70023d4-c822-45a7-9f0f-4a6017b555fe",
   "metadata": {
    "scrolled": true
   },
   "outputs": [
    {
     "name": "stdout",
     "output_type": "stream",
     "text": [
      "Classifying job title for: Student at unknown...\n",
      "Classifying job title for: Product Manager at unknown...\n",
      "Classifying job title for: Intern - CS Undergrad at smb...\n",
      "Classifying job title for: Data Analyst/Economist at enterprise...\n",
      "Classifying job title for: VP Finance at enterprise...\n",
      "Classifying job title for: Head of Product at smb...\n",
      "Classifying job title for: Sr. Product Manager at enterprise...\n",
      "Classifying job title for: Data Scientist at smb...\n",
      "Classifying job title for: Program Manager at unknown...\n",
      "Classifying job title for: Technical Project Manager at enterprise...\n",
      "Classifying job title for: CIO at smb...\n",
      "Classifying job title for: Solutions Engineer at enterprise...\n",
      "Classifying job title for: Technology Analyst at enterprise...\n",
      "Classifying job title for: Data Scientist at smb...\n",
      "Classifying job title for: Data Analyst at enterprise...\n",
      "Classifying job title for: Software Engineer at smb...\n",
      "Classifying job title for: ML Engineer at enterprise...\n",
      "Classifying job title for: Product Manager at smb...\n",
      "Classifying job title for: UX Team Lead at smb...\n",
      "Classifying job title for: Solutions Architect at enterprise...\n",
      "Classifying job title for: Florida attorney since 1983; former County Judge (1991-1995 Ret.). Practice includes mobile homeowner associations, complex criminal defense, and computer law cases. Florida, national and international speaker, trainer at unknown...\n",
      "Classifying job title for: Information security lead at unknown...\n",
      "Classifying job title for: Staff Scientist  at enterprise...\n",
      "Classifying job title for: Product management at enterprise...\n",
      "Classifying job title for: Senior Software Engineer at smb...\n",
      "Classifying job title for: Freelance Dev at smb...\n",
      "Classifying job title for: Adjunct Professor, Computer Science at enterprise...\n",
      "Classifying job title for: Lead AI/ML Scientist at smb...\n",
      "Classifying job title for: Solutions Architect at enterprise...\n",
      "Classifying job title for: Data Scientist at enterprise...\n",
      "Classifying job title for: PhD Student at enterprise...\n",
      "Classifying job title for: Data Scientist - Assistant Manager at enterprise...\n",
      "Classifying job title for: Senior software developer at unknown...\n",
      "Classifying job title for: Product Manager  at smb...\n",
      "Classifying job title for: Software Engineer at enterprise...\n",
      "Classifying job title for: Director of Network Infrastructure at enterprise...\n",
      "Classifying job title for: CEO at smb...\n",
      "Classifying job title for: IT Specialist at smb...\n",
      "Classifying job title for: CEO at smb...\n",
      "Classifying job title for: Teacher at enterprise...\n",
      "Classifying job title for: Managing Director at smb...\n",
      "Classifying job title for: technical program manager at enterprise...\n",
      "Classifying job title for: Research Scientist at enterprise...\n",
      "Classifying job title for: Senior Software Engineer at unknown...\n",
      "Classifying job title for: Data Scientist at enterprise...\n",
      "Classifying job title for: VP of Engineering at smb...\n",
      "Classifying job title for: Special Projects Staff SDE at smb...\n",
      "Classifying job title for: Data scientist at unknown...\n",
      "Classifying job title for: Group Product Manager at enterprise...\n",
      "Classifying job title for: Cloud Engineer | Data/Analytics/AI/ML Engineer  at smb...\n",
      "Classifying job title for: Platform Engineering at enterprise...\n",
      "Classifying job title for: Software Engineer at enterprise...\n",
      "Classifying job title for: Partner Business Manger at enterprise...\n",
      "Classifying job title for: Chief Product and Technology Officer at smb...\n",
      "Classifying job title for: Sr. Director, Product Management at enterprise...\n",
      "Classifying job title for: Data Engineer at enterprise...\n",
      "Classifying job title for: CEO at smb...\n",
      "Classifying job title for: VP technology at smb...\n",
      "Classifying job title for: CEO at smb...\n",
      "Classifying job title for: Software Engineer at enterprise...\n",
      "Classifying job title for: CEO at smb...\n",
      "Classifying job title for: CEO/CIO at smb...\n",
      "Classifying job title for: Data Engineer at enterprise...\n",
      "Classifying job title for: Vice President,  Technology Management  at enterprise...\n",
      "Classifying job title for: Head of Data Solutions at smb...\n",
      "Classifying job title for: Founder in the making at smb...\n",
      "Classifying job title for: IT Core Systems Engineer at enterprise...\n",
      "Classifying job title for: Senior Program Manager at enterprise...\n",
      "Classifying job title for: Data Engineer at smb...\n",
      "Classifying job title for: Co-founder  at smb...\n",
      "Classifying job title for: CTO at enterprise...\n",
      "Classifying job title for: Senior Specialist at enterprise...\n",
      "Classifying job title for: System Administrator at enterprise...\n",
      "Classifying job title for: Web Developer at unknown...\n",
      "Classifying job title for: Vice President, Data Management Office at enterprise...\n",
      "Classifying job title for: CEO at smb...\n",
      "Classifying job title for: Pr Tech BD  at enterprise...\n",
      "Classifying job title for: ML/LLM Engineer at enterprise...\n",
      "Classifying job title for: CTO  at unknown...\n",
      "Classifying job title for: Founder at smb...\n",
      "Classifying job title for: Staff Software Engineer at enterprise...\n",
      "Classifying job title for: Lead Data Analyst at enterprise...\n",
      "Classifying job title for: Technical Program Manager at smb...\n",
      "Classifying job title for: Business Consultant at smb...\n",
      "Classifying job title for: SWE at enterprise...\n",
      "Classifying job title for: Software Engineer at smb...\n",
      "Classifying job title for: IT Manager at unknown...\n",
      "Classifying job title for: CEO& founder at smb...\n",
      "Classifying job title for: Success Architect at enterprise...\n"
     ]
    }
   ],
   "source": [
    "# use an LLM to guess company size\n",
    "result = classify_all_job_categories(df_students, 'job_title', 'company_size_category', 'gpt-4.1')\n",
    "\n",
    "# Find the position of the 'company' column\n",
    "company_col_position = df_students.columns.get_loc('job_title')\n",
    "\n",
    "# Add each key from result dict as a new column right after the company column\n",
    "for i, (key, values) in enumerate(result.items()):\n",
    "    df_students.insert(\n",
    "        company_col_position + 1 + i,  # Position to insert (after company column + previous result columns)\n",
    "        key,                           # Column name\n",
    "        values                         # Column values\n",
    "    )\n",
    "\n",
    "# add job title categories to df\n",
    "create_category_boolean_columns(df_students, 'job_category')"
   ]
  },
  {
   "cell_type": "markdown",
   "id": "ec004a1b-818f-45c0-a486-55ba37324006",
   "metadata": {},
   "source": [
    "#### source"
   ]
  },
  {
   "cell_type": "code",
   "execution_count": 7,
   "id": "039df679-b882-4040-92a7-fbc01c0a42e8",
   "metadata": {},
   "outputs": [],
   "source": [
    "# add source categories to df\n",
    "create_category_boolean_columns(df_students, 'source')"
   ]
  },
  {
   "cell_type": "markdown",
   "id": "e9017178-e7a1-4938-b01c-12783ee9da5a",
   "metadata": {},
   "source": [
    "### activity"
   ]
  },
  {
   "cell_type": "code",
   "execution_count": 8,
   "id": "c16fb459-bcd7-42aa-9529-d805aa8ced35",
   "metadata": {},
   "outputs": [],
   "source": [
    "df_activity = load_clean_data('activity')"
   ]
  },
  {
   "cell_type": "code",
   "execution_count": 9,
   "id": "c4fb5249-7c25-49a5-8410-b6aa3acb56e9",
   "metadata": {},
   "outputs": [],
   "source": [
    "# create boolean columns for different levels of engagement\n",
    "col_name_list = [\"projects_submitted\", \"community_posts\"]\n",
    "x_list = [3, 1]\n",
    "\n",
    "for col_name in col_name_list:\n",
    "    for x in x_list:\n",
    "        greater_than_or_equal_x(df_activity, col_name, x)"
   ]
  },
  {
   "cell_type": "markdown",
   "id": "42c36f5b-a647-40a7-9c18-719a0362e502",
   "metadata": {},
   "source": [
    "### reviews"
   ]
  },
  {
   "cell_type": "code",
   "execution_count": 10,
   "id": "128d8323-9d29-44fe-9080-a56a46fb9b0c",
   "metadata": {},
   "outputs": [],
   "source": [
    "df_reviews = load_clean_data('reviews')"
   ]
  },
  {
   "cell_type": "code",
   "execution_count": 11,
   "id": "10863edd-3b96-4f0f-b085-497c5e8b62a4",
   "metadata": {},
   "outputs": [],
   "source": [
    "# create boolean column for 10/10 reviews\n",
    "greater_than_or_equal_x(df_reviews, \"rating\", 10)"
   ]
  },
  {
   "cell_type": "markdown",
   "id": "2220b9de-e68f-4a1c-a007-43adf0c9d603",
   "metadata": {},
   "source": [
    "### join dataframes"
   ]
  },
  {
   "cell_type": "code",
   "execution_count": 12,
   "id": "50c8b552-eec9-4690-9d69-2b24b31c2c35",
   "metadata": {},
   "outputs": [],
   "source": [
    "# inner join students and activity data\n",
    "df_students_activity = df_students.merge(df_activity, on='name', how='inner')"
   ]
  },
  {
   "cell_type": "code",
   "execution_count": 13,
   "id": "39ebaefe-8ecc-4952-ac2b-d2cf62d69cf4",
   "metadata": {},
   "outputs": [
    {
     "data": {
      "text/plain": [
       "(92, 41)"
      ]
     },
     "execution_count": 13,
     "metadata": {},
     "output_type": "execute_result"
    }
   ],
   "source": [
    "df_students_activity.shape"
   ]
  },
  {
   "cell_type": "code",
   "execution_count": 14,
   "id": "25a778ac-2083-45ec-be03-5699b9cb8424",
   "metadata": {},
   "outputs": [],
   "source": [
    "# outer join student/activity data and review data\n",
    "df_combined = df_students_activity.merge(df_reviews, on='name', how='outer')"
   ]
  },
  {
   "cell_type": "code",
   "execution_count": 15,
   "id": "d7d0d364-6dc9-4f1c-9fc6-9cd7b852e2ed",
   "metadata": {},
   "outputs": [],
   "source": [
    "# fill missing review data\n",
    "pd.set_option('future.no_silent_downcasting', True)\n",
    "df_combined['rating_gte_10'] = df_combined['rating_gte_10'].fillna(False).astype(bool)\n",
    "df_combined[\"rating_exists\"] = df_combined[\"rating\"].notna()"
   ]
  },
  {
   "cell_type": "code",
   "execution_count": 16,
   "id": "51ee77ed-ca1e-4644-bd52-d80cb1fa2985",
   "metadata": {},
   "outputs": [],
   "source": [
    "# save file\n",
    "new_filename = 'data/2-clean/students_activity_reviews.csv'\n",
    "df_combined.to_csv(new_filename, index=False)"
   ]
  },
  {
   "cell_type": "code",
   "execution_count": null,
   "id": "b7fc1860-966a-4b3f-98b9-aeca59fbe87e",
   "metadata": {},
   "outputs": [],
   "source": []
  }
 ],
 "metadata": {
  "kernelspec": {
   "display_name": "Python 3 (ipykernel)",
   "language": "python",
   "name": "python3"
  },
  "language_info": {
   "codemirror_mode": {
    "name": "ipython",
    "version": 3
   },
   "file_extension": ".py",
   "mimetype": "text/x-python",
   "name": "python",
   "nbconvert_exporter": "python",
   "pygments_lexer": "ipython3",
   "version": "3.12.10"
  }
 },
 "nbformat": 4,
 "nbformat_minor": 5
}
