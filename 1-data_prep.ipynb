{
 "cells": [
  {
   "cell_type": "markdown",
   "metadata": {},
   "source": [
    "# Data Preparation\n",
    "\n",
    "Code authored by: Shaw Talebi"
   ]
  },
  {
   "cell_type": "markdown",
   "metadata": {},
   "source": [
    "### imports"
   ]
  },
  {
   "cell_type": "code",
   "execution_count": 1,
   "metadata": {},
   "outputs": [],
   "source": [
    "import pandas as pd\n",
    "import os\n",
    "\n",
    "from utils import extract_cohort_number"
   ]
  },
  {
   "cell_type": "markdown",
   "metadata": {},
   "source": [
    "### students"
   ]
  },
  {
   "cell_type": "code",
   "execution_count": 2,
   "metadata": {},
   "outputs": [],
   "source": [
    "filepath = 'data/1-raw/students/'\n",
    "filename_list = [filepath + filename for filename in os.listdir(filepath)]"
   ]
  },
  {
   "cell_type": "code",
   "execution_count": 3,
   "metadata": {},
   "outputs": [],
   "source": [
    "cols_to_keep = ['full_name', 'cohort', 'job_title', 'company', 'course_join_question', 'source']\n",
    "df_students_list = []\n",
    "\n",
    "# read all .csv files and add to list\n",
    "for filename in filename_list:\n",
    "    if filename.endswith('.csv'):\n",
    "        df_students = pd.read_csv(filename)\n",
    "        \n",
    "        cohort_number = extract_cohort_number(filename)\n",
    "        df_students['cohort'] = cohort_number\n",
    "        \n",
    "        df_students_list.append(df_students[cols_to_keep])"
   ]
  },
  {
   "cell_type": "code",
   "execution_count": 4,
   "metadata": {},
   "outputs": [],
   "source": [
    "# merge all dataframes into one\n",
    "df_students_combined = pd.concat(df_students_list, ignore_index=True)\n",
    "\n",
    "# rename columns\n",
    "df_students_combined = df_students_combined.rename(columns={'full_name': 'name'})"
   ]
  },
  {
   "cell_type": "code",
   "execution_count": 5,
   "metadata": {},
   "outputs": [],
   "source": [
    "# drop duplicates, keeping earliest enrollment data\n",
    "df_students_combined = df_students_combined.sort_values(['name', 'cohort']).drop_duplicates(subset=['name'], keep='first')"
   ]
  },
  {
   "cell_type": "code",
   "execution_count": 6,
   "metadata": {},
   "outputs": [],
   "source": [
    "# fill missing values with semantically meaningful strings for each column\n",
    "df_students_combined = df_students_combined.fillna({\n",
    "    'job_title': 'Unknown job title',\n",
    "    'company': 'Unknown company', \n",
    "    'course_join_question': 'No response provided',\n",
    "})"
   ]
  },
  {
   "cell_type": "code",
   "execution_count": 7,
   "metadata": {},
   "outputs": [],
   "source": [
    "# save to .csv\n",
    "new_filename = 'data/2-clean/students.csv'\n",
    "df_students_combined.to_csv(new_filename, index=False)"
   ]
  },
  {
   "cell_type": "markdown",
   "metadata": {},
   "source": [
    "### activity"
   ]
  },
  {
   "cell_type": "code",
   "execution_count": 8,
   "metadata": {},
   "outputs": [],
   "source": [
    "filepath = 'data/1-raw/activity/'\n",
    "filename_list = [filepath + filename for filename in os.listdir(filepath)]"
   ]
  },
  {
   "cell_type": "code",
   "execution_count": 9,
   "metadata": {},
   "outputs": [],
   "source": [
    "cols_to_keep = ['Name', 'Module Item Views', 'Projects Submitted', 'Community Posts', 'Zoom Join Clicks']\n",
    "df_activity_list = []\n",
    "\n",
    "for filename in filename_list:\n",
    "    if filename.endswith('.csv'):\n",
    "        df_activity = pd.read_csv(filename)\n",
    "        df_activity_list.append(df_activity[cols_to_keep])"
   ]
  },
  {
   "cell_type": "code",
   "execution_count": 10,
   "metadata": {},
   "outputs": [],
   "source": [
    "# merge all dataframes into one\n",
    "df_activity_combined = pd.concat(df_activity_list, ignore_index=True)\n",
    "\n",
    "# Rename all columns to lowercase and replace spaces with underscores\n",
    "df_activity_combined = df_activity_combined.rename(columns=lambda x: x.lower().replace(' ', '_'))"
   ]
  },
  {
   "cell_type": "code",
   "execution_count": 11,
   "metadata": {},
   "outputs": [],
   "source": [
    "# drop duplicates, keeping cohort with most projects submitted\n",
    "df_activity_combined = df_activity_combined.sort_values(['name', 'projects_submitted', 'module_item_views']).drop_duplicates(subset=['name'], keep='last')"
   ]
  },
  {
   "cell_type": "code",
   "execution_count": 12,
   "metadata": {},
   "outputs": [],
   "source": [
    "# save to .csv\n",
    "new_filename = 'data/2-clean/activity.csv'\n",
    "df_activity_combined.to_csv(new_filename, index=False)"
   ]
  },
  {
   "cell_type": "markdown",
   "metadata": {},
   "source": [
    "### reviews"
   ]
  },
  {
   "cell_type": "code",
   "execution_count": 13,
   "metadata": {},
   "outputs": [],
   "source": [
    "filepath = 'data/1-raw/reviews/'\n",
    "filename_list = [filepath + filename for filename in os.listdir(filepath)]"
   ]
  },
  {
   "cell_type": "code",
   "execution_count": 14,
   "metadata": {},
   "outputs": [],
   "source": [
    "cols_to_keep = ['Student Name', 'How would you rate this course?']\n",
    "df_reviews_list = []\n",
    "\n",
    "for filename in filename_list:\n",
    "    if filename.endswith('.csv'):\n",
    "        df_reviews = pd.read_csv(filename)\n",
    "        df_reviews_list.append(df_reviews[cols_to_keep])"
   ]
  },
  {
   "cell_type": "code",
   "execution_count": 15,
   "metadata": {},
   "outputs": [],
   "source": [
    "# merge all dataframes into one\n",
    "df_reviews_combined = pd.concat(df_reviews_list, ignore_index=True)\n",
    "\n",
    "# rename columns\n",
    "df_reviews_combined = df_reviews_combined.rename(columns={'Student Name': 'name', 'How would you rate this course?': 'rating'})"
   ]
  },
  {
   "cell_type": "code",
   "execution_count": 16,
   "metadata": {},
   "outputs": [],
   "source": [
    "# drop duplicates, keeping highest rating\n",
    "df_reviews_combined = df_reviews_combined.sort_values(['name', 'rating']).drop_duplicates(subset=['name'], keep='last')"
   ]
  },
  {
   "cell_type": "code",
   "execution_count": 17,
   "metadata": {},
   "outputs": [],
   "source": [
    "# save to .csv\n",
    "new_filename = 'data/2-clean/reviews.csv'\n",
    "df_reviews_combined.to_csv(new_filename, index=False)"
   ]
  }
 ],
 "metadata": {
  "kernelspec": {
   "display_name": "Python 3 (ipykernel)",
   "language": "python",
   "name": "python3"
  },
  "language_info": {
   "codemirror_mode": {
    "name": "ipython",
    "version": 3
   },
   "file_extension": ".py",
   "mimetype": "text/x-python",
   "name": "python",
   "nbconvert_exporter": "python",
   "pygments_lexer": "ipython3",
   "version": "3.12.10"
  }
 },
 "nbformat": 4,
 "nbformat_minor": 4
}
